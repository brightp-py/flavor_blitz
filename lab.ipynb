{
 "cells": [
  {
   "cell_type": "code",
   "execution_count": 25,
   "metadata": {},
   "outputs": [],
   "source": [
    "def resolveCost(cost: dict, food: list):\n",
    "    flavors = (\"sour\", \"sweet\", \"savory\", \"bitter\", \"spicy\")\n",
    "    cost = [cost[flav] if flav in cost else 0 for flav in flavors]\n",
    "\n",
    "    food1 = []\n",
    "    food2 = []\n",
    "    for card, x in enumerate(food):\n",
    "        if sum(x) == 1:\n",
    "            food1.append((card, x.index(1)))\n",
    "        else:\n",
    "            food2.append((card, x))\n",
    "\n",
    "    res = []\n",
    "    \n",
    "    for card, i in food1:\n",
    "        if cost[i] > 0:\n",
    "            cost[i] -= 1\n",
    "        else:\n",
    "            res.append(card)\n",
    "    \n",
    "    remaining = sum(cost)\n",
    "    if remaining == 0:\n",
    "        return True, res\n",
    "\n",
    "    layer = {tuple(cost)}\n",
    "    for card, f in food2:\n",
    "        nlayer = set()\n",
    "        i1 = f.index(1)\n",
    "        i2 = i1 + f[i1+1:].index(1) + 1\n",
    "        for branch in layer:\n",
    "            if branch[i1] > 0:\n",
    "                nbranch = branch[:i1] + (branch[i1]-1,) + branch[i1+1:]\n",
    "                nlayer.add(nbranch)\n",
    "            if branch[i2] > 0:\n",
    "                nbranch = branch[:i2] + (branch[i2]-1,) + branch[i2+1:]\n",
    "                nlayer.add(nbranch)\n",
    "        if nlayer:\n",
    "            layer = nlayer\n",
    "            remaining -= 1\n",
    "            if remaining == 0:\n",
    "                res.extend(range(card + 1, len(food)))\n",
    "                return True, res\n",
    "        else:\n",
    "            res.append(card)\n",
    "    \n",
    "    return False, []"
   ]
  },
  {
   "cell_type": "code",
   "execution_count": 27,
   "metadata": {},
   "outputs": [
    {
     "name": "stdout",
     "output_type": "stream",
     "text": [
      "(0, 1, 0, 0, 0)\n",
      "(0, 0, 1, 1, 0)\n"
     ]
    }
   ],
   "source": [
    "cost = {\n",
    "    \"sour\": 1,\n",
    "    \"sweet\": 2,\n",
    "    \"savory\": 2,\n",
    "    \"bitter\": 2,\n",
    "    \"spicy\": 1\n",
    "}\n",
    "\n",
    "food = [\n",
    "    (0, 1, 1, 0, 0),\n",
    "    (0, 1, 0, 0, 0),\n",
    "    (0, 0, 0, 1, 0),\n",
    "    (0, 0, 1, 1, 0),\n",
    "    (1, 0, 0, 1, 0),\n",
    "    (1, 1, 0, 0, 0),\n",
    "    (0, 0, 1, 0, 1),\n",
    "    (0, 1, 0, 0, 0),\n",
    "    (0, 0, 1, 1, 0)\n",
    "]\n",
    "\n",
    "res, rem = resolveCost(cost, food)\n",
    "for i in rem:\n",
    "    print(food[i])"
   ]
  }
 ],
 "metadata": {
  "kernelspec": {
   "display_name": "Python 3",
   "language": "python",
   "name": "python3"
  },
  "language_info": {
   "codemirror_mode": {
    "name": "ipython",
    "version": 3
   },
   "file_extension": ".py",
   "mimetype": "text/x-python",
   "name": "python",
   "nbconvert_exporter": "python",
   "pygments_lexer": "ipython3",
   "version": "3.11.0"
  },
  "orig_nbformat": 4
 },
 "nbformat": 4,
 "nbformat_minor": 2
}
